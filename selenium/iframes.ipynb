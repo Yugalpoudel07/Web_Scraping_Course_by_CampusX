{
 "cells": [
  {
   "cell_type": "code",
   "execution_count": null,
   "id": "8829606c-f4b3-4190-be31-76e8521e246b",
   "metadata": {},
   "outputs": [],
   "source": [
    "import time\n",
    "from selenium import webdriver\n",
    "from selenium.webdriver.common.by import By"
   ]
  },
  {
   "cell_type": "code",
   "execution_count": null,
   "id": "8a54a542-f81d-45c8-8a5b-1569df414170",
   "metadata": {},
   "outputs": [],
   "source": [
    "driver = webdriver.Chrome()\n",
    "driver.maximize_window()\n",
    "\n",
    "url = \"https://www.w3schools.com/html/tryit.asp?filename=tryhtml_iframe_target\"\n",
    "driver.get(url)\n",
    "time.sleep(2)\n",
    "\n",
    "# identify iframe element and switch context\n",
    "iframe_element = driver.find_element(By.XPATH, '//*[@id=\"iframeResult\"]')\n",
    "driver.switch_to.frame(iframe_element)\n",
    "\n",
    "link = driver.find_element(By.XPATH, '/html/body/p[1]/a')\n",
    "link.click()\n",
    "time.sleep(2)\n",
    "\n",
    "# switch back to default context\n",
    "driver.switch_to.default_content()\n",
    "\n",
    "driver.quit()"
   ]
  }
 ],
 "metadata": {
  "kernelspec": {
   "display_name": "Python 3 (ipykernel)",
   "language": "python",
   "name": "python3"
  },
  "language_info": {
   "codemirror_mode": {
    "name": "ipython",
    "version": 3
   },
   "file_extension": ".py",
   "mimetype": "text/x-python",
   "name": "python",
   "nbconvert_exporter": "python",
   "pygments_lexer": "ipython3",
   "version": "3.12.4"
  }
 },
 "nbformat": 4,
 "nbformat_minor": 5
}
