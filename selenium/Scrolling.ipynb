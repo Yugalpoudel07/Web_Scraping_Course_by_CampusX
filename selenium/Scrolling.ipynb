{
 "cells": [
  {
   "cell_type": "code",
   "execution_count": 1,
   "id": "d35c8e75-c147-4780-b5d3-967cbd2d7583",
   "metadata": {},
   "outputs": [],
   "source": [
    "import time\n",
    "from selenium import webdriver\n",
    "from selenium.webdriver.common.by import By"
   ]
  },
  {
   "cell_type": "markdown",
   "id": "8497093c-25ed-499a-b605-9e0fa7926aad",
   "metadata": {},
   "source": [
    "## Basic scrolling"
   ]
  },
  {
   "cell_type": "code",
   "execution_count": 2,
   "id": "fb722d90-6c7e-4180-a648-5422f8e7bc5a",
   "metadata": {},
   "outputs": [],
   "source": [
    "# driver = webdriver.Chrome()\n",
    "# driver.maximize_window()\n",
    "\n",
    "# url = 'https://en.wikipedia.org/wiki/Machine_learning'\n",
    "# driver.get(url)\n",
    "# time.sleep(2)\n",
    "\n",
    "# # scrolling to element\n",
    "# ai_xpath = '//*[@id=\"Artificial_intelligence\"]'\n",
    "# ai_subtopic = driver.find_element(By.XPATH, ai_xpath)\n",
    "# driver.execute_script(\"arguments[0].scrollIntoView();\", ai_subtopic)\n",
    "\n",
    "\n",
    "# # scrolling vertically\n",
    "# driver.execute_script(\"window.scrollBy(0, 1000);\") # scrolling downwards\n",
    "# time.sleep(3)\n",
    "# driver.execute_script(\"window.scrollBy(0, -500)\") # scrolling upwards\n",
    "\n",
    "# # scrolling by page height\n",
    "# driver.execute_script(\"window.scrollTo(0, document.body.scrollHeight);\") # scrolling downwards\n",
    "# time.sleep(3)\n",
    "# driver.execute_script(\"window.scrollTo(0, -document.body.scrollHeight);\") # scrolling upwards"
   ]
  },
  {
   "cell_type": "markdown",
   "id": "a36ad765-8b92-4f5d-b4d7-727fc6072804",
   "metadata": {},
   "source": [
    "## Infinite scrolling"
   ]
  },
  {
   "cell_type": "code",
   "execution_count": 4,
   "id": "e86b7fed-6c8c-4cde-a336-723c2a313b9d",
   "metadata": {},
   "outputs": [
    {
     "name": "stdout",
     "output_type": "stream",
     "text": [
      "Webpage height: 5,161 pixels\n",
      "Webpage height: 9,718 pixels\n",
      "Webpage height: 14,585 pixels\n",
      "Webpage height: 19,390 pixels\n",
      "Webpage height: 22,967 pixels\n"
     ]
    }
   ],
   "source": [
    "driver = webdriver.Chrome()\n",
    "driver.maximize_window()\n",
    "\n",
    "url = 'https://www.google.com/search?sca_esv=8f9a9ecb2d916078&sxsrf=AE3TifOWbqAHgFdGXfTW6FMrVXECLR9X8w:1753443680365&q=Real+Madrid&udm=2&fbs=AIIjpHxU7SXXniUZfeShr2fp4giZrjP_Cx0LI1Ytb_FGcOviEiTm5uW1q0uNfK7KsnoL8hUyUYUJLZ_b-p0lT09DIkR7XPDV-eoVxhGuk4IbCKAf9KVxjfbb-9E1IbyVkH89jjXL8ul0vXSqIQL970JC18J6Hbx2sFQhHxOhrDMh1foRYc22Gwc_KLXOqfAaXUCDPLScHEPCwZuUcs3LIWgxhSTG1B6N2w&sa=X&ved=2ahUKEwiHu87d9teOAxWaU2wGHfR0CGoQtKgLKAJ6BAgbEAE&biw=1536&bih=702&dpr=1.25'\n",
    "driver.get(url)\n",
    "time.sleep(2)\n",
    "\n",
    "# calculate h1\n",
    "prev_height = driver.execute_script(\"return document.body.scrollHeight\")\n",
    "\n",
    "while True:\n",
    "\tprint(f\"Webpage height: {prev_height:,} pixels\")\n",
    "\tdriver.execute_script(\"window.scrollTo(0, document.body.scrollHeight);\")\n",
    "\n",
    "\ttime.sleep(5)\n",
    "\n",
    "    # calculate h2\n",
    "\tnew_height = driver.execute_script(\"return document.body.scrollHeight\")\n",
    "\n",
    "    # compare h1 and h2\n",
    "\tif prev_height == new_height:\n",
    "\t\tbreak\n",
    "\n",
    "\tprev_height = new_height"
   ]
  }
 ],
 "metadata": {
  "kernelspec": {
   "display_name": "Python 3 (ipykernel)",
   "language": "python",
   "name": "python3"
  },
  "language_info": {
   "codemirror_mode": {
    "name": "ipython",
    "version": 3
   },
   "file_extension": ".py",
   "mimetype": "text/x-python",
   "name": "python",
   "nbconvert_exporter": "python",
   "pygments_lexer": "ipython3",
   "version": "3.12.4"
  }
 },
 "nbformat": 4,
 "nbformat_minor": 5
}
