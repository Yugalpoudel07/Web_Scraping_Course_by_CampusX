{
 "cells": [
  {
   "cell_type": "markdown",
   "id": "7506fc92-572c-47dd-ae14-15931755cbfc",
   "metadata": {},
   "source": [
    "## 1. Javascript Alerts"
   ]
  },
  {
   "cell_type": "code",
   "execution_count": 1,
   "id": "b92a68d6-1dc1-4ae4-96d9-91d66da8bbd4",
   "metadata": {},
   "outputs": [],
   "source": [
    "import time\n",
    "from selenium import webdriver\n",
    "from selenium.webdriver.common.by import By"
   ]
  },
  {
   "cell_type": "code",
   "execution_count": 3,
   "id": "376f99ce-8355-434f-98ef-a7e888ee69d2",
   "metadata": {},
   "outputs": [
    {
     "name": "stdout",
     "output_type": "stream",
     "text": [
      "Alert Text: Press a button!\n"
     ]
    }
   ],
   "source": [
    "driver = webdriver.Chrome()\n",
    "driver.maximize_window()\n",
    "\n",
    "url = 'https://www.w3schools.com/js/tryit.asp?filename=tryjs_confirm'\n",
    "driver.get(url)\n",
    "time.sleep(2)\n",
    "\n",
    "iframe_element = driver.find_element(By.ID, \"iframeResult\")\n",
    "driver.switch_to.frame(iframe_element)\n",
    "\n",
    "button = driver.find_element(By.XPATH, '/html/body/button')\n",
    "button.click()\n",
    "time.sleep(1)\n",
    "\n",
    "print(f\"Alert Text: {driver.switch_to.alert.text}\")\n",
    "\n",
    "driver.switch_to.alert.accept()\n",
    "\n",
    "time.sleep(2)\n",
    "driver.switch_to.default_content()\n",
    "\n",
    "driver.quit()"
   ]
  },
  {
   "cell_type": "markdown",
   "id": "759a58b8-b843-48fb-ae4f-3a0fa4e34113",
   "metadata": {},
   "source": [
    "## 2. Confirmation Alerts"
   ]
  },
  {
   "cell_type": "code",
   "execution_count": 7,
   "id": "fce39f02-03c4-449a-8887-e7644a399eda",
   "metadata": {},
   "outputs": [
    {
     "name": "stdout",
     "output_type": "stream",
     "text": [
      "Alert Text: Press a button!\n",
      "\n",
      "You clicked Accept!\n"
     ]
    }
   ],
   "source": [
    "driver = webdriver.Chrome()\n",
    "driver.maximize_window()\n",
    "\n",
    "url = \"https://www.w3schools.com/js/tryit.asp?filename=tryjs_confirm\"\n",
    "driver.get(url)\n",
    "time.sleep(2)\n",
    "\n",
    "iframe_element = driver.find_element(By.ID, \"iframeResult\")\n",
    "driver.switch_to.frame(iframe_element)\n",
    "\n",
    "button = driver.find_element(By.XPATH, '/html/body/button')\n",
    "button.click()\n",
    "\n",
    "print(f\"Alert Text: {driver.switch_to.alert.text}\")\n",
    "\n",
    "driver.switch_to.alert.accept()\n",
    "print(\"\\nYou clicked Accept!\")\n",
    "time.sleep(1)\n",
    "\n",
    "# driver.switch_to.alert.dismiss()\n",
    "# print(\"\\nYou clicked Cancel!\")\n",
    "# time.sleep(1)\n",
    "\n",
    "driver.switch_to.default_content()\n",
    "\n",
    "driver.quit()"
   ]
  },
  {
   "cell_type": "markdown",
   "id": "3c2a6872-3a05-48a9-9074-fc8b127b3d58",
   "metadata": {},
   "source": [
    "## 3. Prompt Alerts"
   ]
  },
  {
   "cell_type": "code",
   "execution_count": 10,
   "id": "31753e23-6c3f-4573-80a4-426bf4656da4",
   "metadata": {},
   "outputs": [
    {
     "name": "stdout",
     "output_type": "stream",
     "text": [
      "Alert Text: Please enter your name:\n"
     ]
    }
   ],
   "source": [
    "driver = webdriver.Chrome()\n",
    "driver.maximize_window()\n",
    "\n",
    "url = \"https://www.w3schools.com/js/tryit.asp?filename=tryjs_prompt\"\n",
    "driver.get(url)\n",
    "time.sleep(2)\n",
    "\n",
    "iframe_element = driver.find_element(By.ID, \"iframeResult\")\n",
    "driver.switch_to.frame(iframe_element)\n",
    "\n",
    "button = driver.find_element(By.XPATH, '/html/body/button')\n",
    "button.click()\n",
    "\n",
    "print(f\"Alert Text: {driver.switch_to.alert.text}\")\n",
    "\n",
    "driver.switch_to.alert.send_keys(\"Bruce\")\n",
    "driver.switch_to.alert.accept()\n",
    "\n",
    "# driver.switch_to.alert.dismiss()\n",
    "\n",
    "time.sleep(2)\n",
    "driver.switch_to.default_content()\n",
    "\n",
    "driver.quit()"
   ]
  }
 ],
 "metadata": {
  "kernelspec": {
   "display_name": "Python 3 (ipykernel)",
   "language": "python",
   "name": "python3"
  },
  "language_info": {
   "codemirror_mode": {
    "name": "ipython",
    "version": 3
   },
   "file_extension": ".py",
   "mimetype": "text/x-python",
   "name": "python",
   "nbconvert_exporter": "python",
   "pygments_lexer": "ipython3",
   "version": "3.12.4"
  }
 },
 "nbformat": 4,
 "nbformat_minor": 5
}
