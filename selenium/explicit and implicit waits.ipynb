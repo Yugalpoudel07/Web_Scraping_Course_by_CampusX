{
 "cells": [
  {
   "cell_type": "code",
   "execution_count": 1,
   "id": "b63341dc-57f0-425f-aaa0-7d883677b02d",
   "metadata": {},
   "outputs": [],
   "source": [
    "import time\n",
    "from selenium import webdriver\n",
    "from selenium.webdriver.common.by import By\n",
    "from selenium.webdriver.common.keys import Keys\n",
    "from selenium.webdriver.support.ui import WebDriverWait\n",
    "from selenium.webdriver.support import expected_conditions as EC"
   ]
  },
  {
   "cell_type": "code",
   "execution_count": 2,
   "id": "ce1c4682-bc52-4132-8f04-af6c6a4f563c",
   "metadata": {},
   "outputs": [],
   "source": [
    "driver = webdriver.Chrome()\n",
    "driver.maximize_window()\n",
    "\n",
    "# access URL\n",
    "url = 'https://www.google.com'\n",
    "driver.get(url)\n",
    "time.sleep(2)\n",
    "\n",
    "# locating search bar\n",
    "search_bar_xpath = '//*[@id=\"APjFqb\"]'\n",
    "search_bar = driver.find_element(by=By.XPATH, value=search_bar_xpath)\n",
    "\n",
    "# enter input\n",
    "search_bar.send_keys(\"machine learning\")\n",
    "time.sleep(1)\n",
    "\n",
    "# explicit wait instance\n",
    "wait = WebDriverWait(driver, 5)\n",
    "wait.until(EC.element_to_be_clickable((By.XPATH, '/html/body/div[2]/div[4]/form/div[1]/div[1]/div[3]/center/input[1]')))\n",
    "\n",
    "search_bar.send_keys(Keys.ENTER)\n",
    "\n",
    "time.sleep(2)\n",
    "\n",
    "driver.quit()"
   ]
  },
  {
   "cell_type": "code",
   "execution_count": null,
   "id": "729eaac0-8a76-4e5a-bc37-4c3529f41a5e",
   "metadata": {},
   "outputs": [],
   "source": [
    "driver = webdriver.Chrome()\n",
    "driver.maximize_window()\n",
    "\n",
    "driver.implicitly_wait(10)\n",
    "\n",
    "url = \"https://www.google.com/\"\n",
    "driver.get(url)\n",
    "time.sleep(1)\n",
    "\n",
    "search_bar = driver.find_element(By.XPATH, '//*[@id=\"APjFqb\"]')\n",
    "\n",
    "search_bar.send_keys(\"machine learning\")\n",
    "time.sleep(1)\n",
    "\n",
    "search_bar.send_keys(Keys.ENTER)\n",
    "time.sleep(2)\n",
    "\n",
    "driver.quit()"
   ]
  }
 ],
 "metadata": {
  "kernelspec": {
   "display_name": "Python 3 (ipykernel)",
   "language": "python",
   "name": "python3"
  },
  "language_info": {
   "codemirror_mode": {
    "name": "ipython",
    "version": 3
   },
   "file_extension": ".py",
   "mimetype": "text/x-python",
   "name": "python",
   "nbconvert_exporter": "python",
   "pygments_lexer": "ipython3",
   "version": "3.12.4"
  }
 },
 "nbformat": 4,
 "nbformat_minor": 5
}
