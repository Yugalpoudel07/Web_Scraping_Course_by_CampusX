{
 "cells": [
  {
   "cell_type": "code",
   "execution_count": 1,
   "id": "b6941f1c-9a54-42ae-87c1-5ed78fc6ff8f",
   "metadata": {},
   "outputs": [],
   "source": [
    "from selenium import webdriver\n",
    "import time"
   ]
  },
  {
   "cell_type": "code",
   "execution_count": 3,
   "id": "7b7a82f3-aeed-4272-b3a6-0412adc9fe9b",
   "metadata": {},
   "outputs": [
    {
     "name": "stdout",
     "output_type": "stream",
     "text": [
      "Title : Google\n",
      "Current url : https://www.google.com/\n",
      "Screenshot saved!\n"
     ]
    }
   ],
   "source": [
    "driver = webdriver.Chrome()\n",
    "\n",
    "time .sleep(3)\n",
    "\n",
    "driver.maximize_window()\n",
    "\n",
    "url = 'https://www.google.com/'\n",
    "driver.get(url)\n",
    "\n",
    "print(f\"Title : {driver.title}\")\n",
    "print(f\"Current url : {driver.current_url}\")\n",
    "\n",
    "driver.save_screenshot(\"google_homepage_screenshot.png\")\n",
    "print(\"Screenshot saved!\")\n",
    "\n",
    "time.sleep(3)\n",
    "\n",
    "driver.quit()"
   ]
  },
  {
   "cell_type": "code",
   "execution_count": null,
   "id": "af26d2ab-62ed-4c47-80f5-b0536d11046d",
   "metadata": {},
   "outputs": [],
   "source": []
  }
 ],
 "metadata": {
  "kernelspec": {
   "display_name": "Python 3 (ipykernel)",
   "language": "python",
   "name": "python3"
  },
  "language_info": {
   "codemirror_mode": {
    "name": "ipython",
    "version": 3
   },
   "file_extension": ".py",
   "mimetype": "text/x-python",
   "name": "python",
   "nbconvert_exporter": "python",
   "pygments_lexer": "ipython3",
   "version": "3.12.4"
  }
 },
 "nbformat": 4,
 "nbformat_minor": 5
}
