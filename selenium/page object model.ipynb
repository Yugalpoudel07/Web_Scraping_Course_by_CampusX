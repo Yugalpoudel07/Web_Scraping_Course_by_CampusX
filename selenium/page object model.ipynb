{
 "cells": [
  {
   "cell_type": "code",
   "execution_count": 1,
   "id": "d490560d-b662-48e5-a4db-6c2be0f605ce",
   "metadata": {},
   "outputs": [],
   "source": [
    "import time\n",
    "from selenium import webdriver\n",
    "from selenium.webdriver.common.by import By"
   ]
  },
  {
   "cell_type": "code",
   "execution_count": 2,
   "id": "32851b53-12d9-41ef-b7b0-1767f5d938d7",
   "metadata": {},
   "outputs": [],
   "source": [
    "driver = webdriver.Chrome()\n",
    "driver.maximize_window()\n",
    "\n",
    "url = 'https://github.com/login'\n",
    "driver.get(url)\n",
    "time.sleep(2)\n",
    "\n",
    "class LoginPage:\n",
    "    def __init__(self, driver):\n",
    "        self.driver = driver\n",
    "        self.username = (By.ID, 'login_field')\n",
    "        self.password = (By.ID, 'password')\n",
    "        self.login_button = (By.NAME, 'commit')\n",
    "\n",
    "    def login(self, username, password):\n",
    "        self.driver.find_element(*self.username).send_keys(username)\n",
    "        self.driver.find_element(*self.password).send_keys(password)\n",
    "        time.sleep(1)\n",
    "        self.driver.find_element(*self.login_button).click()\n",
    "\n",
    "login_page = LoginPage(driver)\n",
    "login_page.login(\"misbah\", \"pass123\")\n",
    "\n",
    "time.sleep(2)\n",
    "driver.quit()"
   ]
  }
 ],
 "metadata": {
  "kernelspec": {
   "display_name": "Python 3 (ipykernel)",
   "language": "python",
   "name": "python3"
  },
  "language_info": {
   "codemirror_mode": {
    "name": "ipython",
    "version": 3
   },
   "file_extension": ".py",
   "mimetype": "text/x-python",
   "name": "python",
   "nbconvert_exporter": "python",
   "pygments_lexer": "ipython3",
   "version": "3.12.4"
  }
 },
 "nbformat": 4,
 "nbformat_minor": 5
}
