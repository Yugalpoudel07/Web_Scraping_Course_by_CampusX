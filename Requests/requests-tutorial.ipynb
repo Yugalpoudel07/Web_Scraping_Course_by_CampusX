{
 "cells": [
  {
   "cell_type": "markdown",
   "id": "387e9e08-c484-4d07-979b-9cfc9b1fa2b6",
   "metadata": {},
   "source": [
    "## 1. Imports"
   ]
  },
  {
   "cell_type": "code",
   "execution_count": 1,
   "id": "388f71fc-919d-4128-9dd2-16e8dbcfffa3",
   "metadata": {},
   "outputs": [],
   "source": [
    "import requests"
   ]
  },
  {
   "cell_type": "markdown",
   "id": "fa8f082a-0753-48b7-9f63-1a0488c65125",
   "metadata": {},
   "source": [
    "## 2. Version"
   ]
  },
  {
   "cell_type": "code",
   "execution_count": 2,
   "id": "5ca24dc5-ab7e-4508-a62f-daa3eb40b888",
   "metadata": {},
   "outputs": [
    {
     "name": "stdout",
     "output_type": "stream",
     "text": [
      "2.32.3\n"
     ]
    }
   ],
   "source": [
    "print(requests.__version__)"
   ]
  },
  {
   "cell_type": "markdown",
   "id": "cec901b5-07de-4a6e-a877-7c44f77b7108",
   "metadata": {},
   "source": [
    "## 3. GET\n",
    "\n",
    "### 3.1\n",
    "\n",
    "- **Send a request to GitHub API and print the response**\n",
    "- **Print the status code and the contents**\n",
    "- **GitHub API:** https://api.github.com\n"
   ]
  },
  {
   "cell_type": "code",
   "execution_count": 3,
   "id": "b5d81cc7-4e5a-4b80-963d-26525507f37c",
   "metadata": {},
   "outputs": [],
   "source": [
    "uri = 'https://api.github.com'\n",
    "response = requests.get(uri)"
   ]
  },
  {
   "cell_type": "code",
   "execution_count": 4,
   "id": "20fb2ba7-b62e-4f9f-8dc2-47b4db5a2fb3",
   "metadata": {},
   "outputs": [
    {
     "data": {
      "text/plain": [
       "<Response [200]>"
      ]
     },
     "execution_count": 4,
     "metadata": {},
     "output_type": "execute_result"
    }
   ],
   "source": [
    "response"
   ]
  },
  {
   "cell_type": "code",
   "execution_count": 5,
   "id": "6e0b5719-bb3f-4e47-8cea-651a66afd923",
   "metadata": {},
   "outputs": [
    {
     "data": {
      "text/plain": [
       "200"
      ]
     },
     "execution_count": 5,
     "metadata": {},
     "output_type": "execute_result"
    }
   ],
   "source": [
    "response.status_code"
   ]
  },
  {
   "cell_type": "code",
   "execution_count": 6,
   "id": "55789c05-14f5-4c24-b5ab-19b82d2ac055",
   "metadata": {},
   "outputs": [
    {
     "data": {
      "text/plain": [
       "b'{\"current_user_url\":\"https://api.github.com/user\",\"current_user_authorizations_html_url\":\"https://github.com/settings/connections/applications{/client_id}\",\"authorizations_url\":\"https://api.github.com/authorizations\",\"code_search_url\":\"https://api.github.com/search/code?q={query}{&page,per_page,sort,order}\",\"commit_search_url\":\"https://api.github.com/search/commits?q={query}{&page,per_page,sort,order}\",\"emails_url\":\"https://api.github.com/user/emails\",\"emojis_url\":\"https://api.github.com/emojis\",\"events_url\":\"https://api.github.com/events\",\"feeds_url\":\"https://api.github.com/feeds\",\"followers_url\":\"https://api.github.com/user/followers\",\"following_url\":\"https://api.github.com/user/following{/target}\",\"gists_url\":\"https://api.github.com/gists{/gist_id}\",\"hub_url\":\"https://api.github.com/hub\",\"issue_search_url\":\"https://api.github.com/search/issues?q={query}{&page,per_page,sort,order}\",\"issues_url\":\"https://api.github.com/issues\",\"keys_url\":\"https://api.github.com/user/keys\",\"label_search_url\":\"https://api.github.com/search/labels?q={query}&repository_id={repository_id}{&page,per_page}\",\"notifications_url\":\"https://api.github.com/notifications\",\"organization_url\":\"https://api.github.com/orgs/{org}\",\"organization_repositories_url\":\"https://api.github.com/orgs/{org}/repos{?type,page,per_page,sort}\",\"organization_teams_url\":\"https://api.github.com/orgs/{org}/teams\",\"public_gists_url\":\"https://api.github.com/gists/public\",\"rate_limit_url\":\"https://api.github.com/rate_limit\",\"repository_url\":\"https://api.github.com/repos/{owner}/{repo}\",\"repository_search_url\":\"https://api.github.com/search/repositories?q={query}{&page,per_page,sort,order}\",\"current_user_repositories_url\":\"https://api.github.com/user/repos{?type,page,per_page,sort}\",\"starred_url\":\"https://api.github.com/user/starred{/owner}{/repo}\",\"starred_gists_url\":\"https://api.github.com/gists/starred\",\"topic_search_url\":\"https://api.github.com/search/topics?q={query}{&page,per_page}\",\"user_url\":\"https://api.github.com/users/{user}\",\"user_organizations_url\":\"https://api.github.com/user/orgs\",\"user_repositories_url\":\"https://api.github.com/users/{user}/repos{?type,page,per_page,sort}\",\"user_search_url\":\"https://api.github.com/search/users?q={query}{&page,per_page,sort,order}\"}'"
      ]
     },
     "execution_count": 6,
     "metadata": {},
     "output_type": "execute_result"
    }
   ],
   "source": [
    "response.content"
   ]
  },
  {
   "cell_type": "markdown",
   "id": "18cde101-0c74-4cbd-82e7-bbe388d3acff",
   "metadata": {},
   "source": [
    "### 3.2\n",
    "\n",
    "- **Use query parameters in a GET message**\n",
    "- **Search for all GitHub repositories that contain the word `requests` and the main language used is `Python`**\n",
    "- **GitHub Repository Search API:** https://api.github.com/search/repositories\n"
   ]
  },
  {
   "cell_type": "code",
   "execution_count": 7,
   "id": "65146b8c-7896-431f-8dab-43658ee32c76",
   "metadata": {},
   "outputs": [],
   "source": [
    "uri = 'https://api.github.com/search/repositories'"
   ]
  },
  {
   "cell_type": "code",
   "execution_count": 8,
   "id": "607a1782-e9a7-4ed1-a2d9-c7d2dcf93998",
   "metadata": {},
   "outputs": [],
   "source": [
    "params = {\"q\": \"requests+language:python\"}"
   ]
  },
  {
   "cell_type": "code",
   "execution_count": 9,
   "id": "251b8831-171e-4217-8fdd-39f2db92518c",
   "metadata": {},
   "outputs": [],
   "source": [
    "response = requests.get(uri, params = params)"
   ]
  },
  {
   "cell_type": "code",
   "execution_count": 10,
   "id": "cd7c57dc-37ee-4f7d-9fa3-5e09e3354cf7",
   "metadata": {},
   "outputs": [
    {
     "data": {
      "text/plain": [
       "200"
      ]
     },
     "execution_count": 10,
     "metadata": {},
     "output_type": "execute_result"
    }
   ],
   "source": [
    "response.status_code"
   ]
  },
  {
   "cell_type": "code",
   "execution_count": 11,
   "id": "fba120d3-034a-4ea9-83cc-76651eefc00a",
   "metadata": {},
   "outputs": [
    {
     "data": {
      "text/plain": [
       "b'{\"total_count\":272,\"incomplete_results\":false,\"items\":[{\"id\":33210074,\"node_id\":\"MDEwOlJlcG9zaXRvcnkzMzIxMDA3NA==\",\"name\":\"secrules-language-evaluation\",\"full_name\":\"SpiderLabs/secrules-language-evaluation\",\"private\":false,\"owner\":{\"login\":\"SpiderLabs\",\"id\":508521,\"node_id\":\"MDEyOk9yZ2FuaXphdGlvbjUwODUyMQ==\",\"avatar_url\":\"https://avatars.githubusercontent.com/u/508521?v=4\",\"gravatar_id\":\"\",\"url\":\"https://api.github.com/users/SpiderLabs\",\"html_url\":\"https://github.com/SpiderLabs\",\"followers_url\":\"https://api.github.com/users/SpiderLabs/followers\",\"following_url\":\"https://api.github.com/users/SpiderLabs/following{/other_user}\",\"gists_url\":\"https://api.github.com/users/SpiderLabs/gists{/gist_id}\",\"starred_url\":\"https://api.github.com/users/SpiderLabs/starred{/owner}{/repo}\",\"subscriptions_url\":\"https://api.github.com/users/SpiderLabs/subscriptions\",\"organizations_url\":\"https://api.github.com/users/SpiderLabs/orgs\",\"repos_url\":\"https://api.github.com/users/SpiderLabs/repos\",\"events_url\":\"https://api.github.com/users/SpiderLabs/events{/privacy}\",\"received_events_url\":\"https://api.github.com/users/SpiderLabs/received_events\",\"type\":\"Organization\",\"user_view_type\":\"public\",\"site_admin\":false},\"html_url\":\"https://github.com/SpiderLabs/secrules-language-evaluation\",\"description\":\"Set of Python scripts to perform SecRules language evaluation on a given http request.\",\"fork\":false,\"url\":\"https://api.github.com/repos/SpiderLabs/secrules-language-evaluation\",\"forks_url\":\"https://api.github.com/repos/SpiderLabs/secrules-language-evaluation/forks\",\"keys_url\":\"https://api.github.com/repos/SpiderLabs/secrules-language-evaluation/keys{/key_id}\",\"collaborators_url\":\"https://api.github.com/repos/SpiderLabs/secrules-language-evaluation/collaborators{/collaborator}\",\"teams_url\":\"https://api.github.com/repos/SpiderLabs/secrules-language-evaluation/teams\",\"hooks_url\":\"https://api.github.com/repos/SpiderLabs/secrules-language-evaluation/hooks\",\"issue_events_url\":\"https://api.github.com/repo'"
      ]
     },
     "execution_count": 11,
     "metadata": {},
     "output_type": "execute_result"
    }
   ],
   "source": [
    "response.content[:2000]"
   ]
  },
  {
   "cell_type": "markdown",
   "id": "2ff7e578-694c-4528-8be8-73680d410e73",
   "metadata": {},
   "source": [
    "## 4. POST\n",
    "### 4.1\n",
    "\n",
    "- **Send some data to a test server**\n",
    "- **Server address:** https://httpbin.org/post\n"
   ]
  },
  {
   "cell_type": "code",
   "execution_count": 12,
   "id": "738ee935-070d-4cb3-8180-ba6887d57382",
   "metadata": {},
   "outputs": [],
   "source": [
    "def get_data_format(rcvd_response):\n",
    "    json_response = rcvd_response.json()\n",
    "    data_format = json_response['headers']['Content-Type'].split(\"/\")[1]\n",
    "    print(f\"Response data format: {data_format}\")"
   ]
  },
  {
   "cell_type": "code",
   "execution_count": 13,
   "id": "34ef3f4a-fee1-4a32-a8c3-ff8690b0d851",
   "metadata": {},
   "outputs": [],
   "source": [
    "uri = 'https://httpbin.org/post'"
   ]
  },
  {
   "cell_type": "code",
   "execution_count": 14,
   "id": "b29386dc-30ef-4cf2-b957-0cd0855d93a1",
   "metadata": {},
   "outputs": [],
   "source": [
    "data = {\n",
    "    'username' : 'bruce',\n",
    "    'password' : 'bruce123'\n",
    "}"
   ]
  },
  {
   "cell_type": "code",
   "execution_count": 15,
   "id": "d0f31959-2cf0-4e61-817d-d2773ff3e750",
   "metadata": {},
   "outputs": [],
   "source": [
    "response = requests.post(uri, data = data)"
   ]
  },
  {
   "cell_type": "code",
   "execution_count": 16,
   "id": "b19a3e66-5b5c-4bb3-919e-a6eafa3d2245",
   "metadata": {},
   "outputs": [
    {
     "data": {
      "text/plain": [
       "200"
      ]
     },
     "execution_count": 16,
     "metadata": {},
     "output_type": "execute_result"
    }
   ],
   "source": [
    "response.status_code"
   ]
  },
  {
   "cell_type": "code",
   "execution_count": 17,
   "id": "8cec70ba-6c01-4481-baf6-f0442987fe93",
   "metadata": {},
   "outputs": [
    {
     "data": {
      "text/plain": [
       "{'args': {},\n",
       " 'data': '',\n",
       " 'files': {},\n",
       " 'form': {'password': 'bruce123', 'username': 'bruce'},\n",
       " 'headers': {'Accept': '*/*',\n",
       "  'Accept-Encoding': 'gzip, deflate',\n",
       "  'Content-Length': '32',\n",
       "  'Content-Type': 'application/x-www-form-urlencoded',\n",
       "  'Host': 'httpbin.org',\n",
       "  'User-Agent': 'python-requests/2.32.3',\n",
       "  'X-Amzn-Trace-Id': 'Root=1-687f7f73-7609108c56f695e571662c43'},\n",
       " 'json': None,\n",
       " 'origin': '116.66.195.164',\n",
       " 'url': 'https://httpbin.org/post'}"
      ]
     },
     "execution_count": 17,
     "metadata": {},
     "output_type": "execute_result"
    }
   ],
   "source": [
    "response.json()"
   ]
  },
  {
   "cell_type": "code",
   "execution_count": 18,
   "id": "638dbf4f-d8f9-44e2-9425-ef9c23240111",
   "metadata": {},
   "outputs": [
    {
     "data": {
      "text/plain": [
       "'x-www-form-urlencoded'"
      ]
     },
     "execution_count": 18,
     "metadata": {},
     "output_type": "execute_result"
    }
   ],
   "source": [
    "response.json()['headers']['Content-Type'].split(\"/\")[-1]"
   ]
  },
  {
   "cell_type": "code",
   "execution_count": 19,
   "id": "09fe763c-4c7b-4489-af68-d2165fb103c0",
   "metadata": {
    "scrolled": true
   },
   "outputs": [
    {
     "name": "stdout",
     "output_type": "stream",
     "text": [
      "Response data format: x-www-form-urlencoded\n"
     ]
    }
   ],
   "source": [
    "get_data_format(response)"
   ]
  },
  {
   "cell_type": "code",
   "execution_count": null,
   "id": "fdb2d80b-f3f5-4115-81d0-0be2c571fc8f",
   "metadata": {},
   "outputs": [],
   "source": []
  },
  {
   "cell_type": "markdown",
   "id": "762bffb3-cb71-4ade-ad7f-7c7f49510aa8",
   "metadata": {},
   "source": [
    "### 4.2\n",
    "\n",
    "- **APIs usually expect data in JSON format**\n",
    "- **Send data in JSON format using POST message**\n"
   ]
  },
  {
   "cell_type": "code",
   "execution_count": 20,
   "id": "34ba49b2-27d8-4e61-b5f5-a9ae4cf4b1e9",
   "metadata": {},
   "outputs": [
    {
     "data": {
      "text/plain": [
       "'https://httpbin.org/post'"
      ]
     },
     "execution_count": 20,
     "metadata": {},
     "output_type": "execute_result"
    }
   ],
   "source": [
    "uri"
   ]
  },
  {
   "cell_type": "code",
   "execution_count": 21,
   "id": "903f9e53-e4e5-4ffa-a6d9-bc504593e4b3",
   "metadata": {},
   "outputs": [
    {
     "data": {
      "text/plain": [
       "{'username': 'bruce', 'password': 'bruce123'}"
      ]
     },
     "execution_count": 21,
     "metadata": {},
     "output_type": "execute_result"
    }
   ],
   "source": [
    "data"
   ]
  },
  {
   "cell_type": "code",
   "execution_count": 22,
   "id": "19f17ccd-087b-4630-aae1-850d5cfaffa2",
   "metadata": {},
   "outputs": [],
   "source": [
    "response2 = requests.post(uri,json = data)"
   ]
  },
  {
   "cell_type": "code",
   "execution_count": 23,
   "id": "49fda08c-bb71-4ee6-b47e-d26472254bbd",
   "metadata": {},
   "outputs": [
    {
     "data": {
      "text/plain": [
       "200"
      ]
     },
     "execution_count": 23,
     "metadata": {},
     "output_type": "execute_result"
    }
   ],
   "source": [
    "response2.status_code"
   ]
  },
  {
   "cell_type": "code",
   "execution_count": 24,
   "id": "f5e21051-9143-41e9-a081-a0e81c47f5af",
   "metadata": {},
   "outputs": [
    {
     "data": {
      "text/plain": [
       "{'args': {},\n",
       " 'data': '{\"username\": \"bruce\", \"password\": \"bruce123\"}',\n",
       " 'files': {},\n",
       " 'form': {},\n",
       " 'headers': {'Accept': '*/*',\n",
       "  'Accept-Encoding': 'gzip, deflate',\n",
       "  'Content-Length': '45',\n",
       "  'Content-Type': 'application/json',\n",
       "  'Host': 'httpbin.org',\n",
       "  'User-Agent': 'python-requests/2.32.3',\n",
       "  'X-Amzn-Trace-Id': 'Root=1-687f7f75-1b4e1a7871d643cf4460fb65'},\n",
       " 'json': {'password': 'bruce123', 'username': 'bruce'},\n",
       " 'origin': '116.66.195.164',\n",
       " 'url': 'https://httpbin.org/post'}"
      ]
     },
     "execution_count": 24,
     "metadata": {},
     "output_type": "execute_result"
    }
   ],
   "source": [
    "response2.json()"
   ]
  },
  {
   "cell_type": "code",
   "execution_count": 25,
   "id": "477a9387-ca9f-4be1-bb9f-ad4a0e9dea7a",
   "metadata": {},
   "outputs": [
    {
     "name": "stdout",
     "output_type": "stream",
     "text": [
      "Response data format: json\n"
     ]
    }
   ],
   "source": [
    "get_data_format(response2)"
   ]
  },
  {
   "cell_type": "markdown",
   "id": "ab8f70f2-41a1-4e91-b1c6-93ffa511308a",
   "metadata": {},
   "source": [
    "## 5. PUT\n",
    "\n",
    "### 5.1\n",
    "\n",
    "- **Use PUT method to update the data**\n",
    "- **Address:** https://httpbin.org/put\n"
   ]
  },
  {
   "cell_type": "code",
   "execution_count": 26,
   "id": "14a3de25-8029-4ba7-ad3e-7d3acb376454",
   "metadata": {},
   "outputs": [],
   "source": [
    "uri = \"https://httpbin.org/put\""
   ]
  },
  {
   "cell_type": "code",
   "execution_count": 27,
   "id": "2bcf56a7-f311-4d40-819b-eeb18b3b7968",
   "metadata": {},
   "outputs": [],
   "source": [
    "data = {\n",
    "    \"param1\": \"value1\"\n",
    "}"
   ]
  },
  {
   "cell_type": "code",
   "execution_count": 28,
   "id": "67665c58-00ba-4e3f-a5ca-3ce834e8c57e",
   "metadata": {},
   "outputs": [],
   "source": [
    "response = requests.put(uri, data = data)"
   ]
  },
  {
   "cell_type": "code",
   "execution_count": 29,
   "id": "f082fc6b-4d21-4249-adb3-40baf3f6f864",
   "metadata": {},
   "outputs": [
    {
     "data": {
      "text/plain": [
       "200"
      ]
     },
     "execution_count": 29,
     "metadata": {},
     "output_type": "execute_result"
    }
   ],
   "source": [
    "response.status_code"
   ]
  },
  {
   "cell_type": "code",
   "execution_count": 30,
   "id": "57917626-00a9-4b71-b400-1042b99ac5e9",
   "metadata": {},
   "outputs": [
    {
     "data": {
      "text/plain": [
       "{'args': {},\n",
       " 'data': '',\n",
       " 'files': {},\n",
       " 'form': {'param1': 'value1'},\n",
       " 'headers': {'Accept': '*/*',\n",
       "  'Accept-Encoding': 'gzip, deflate',\n",
       "  'Content-Length': '13',\n",
       "  'Content-Type': 'application/x-www-form-urlencoded',\n",
       "  'Host': 'httpbin.org',\n",
       "  'User-Agent': 'python-requests/2.32.3',\n",
       "  'X-Amzn-Trace-Id': 'Root=1-687f7f77-088af50426c801a47da10638'},\n",
       " 'json': None,\n",
       " 'origin': '116.66.195.164',\n",
       " 'url': 'https://httpbin.org/put'}"
      ]
     },
     "execution_count": 30,
     "metadata": {},
     "output_type": "execute_result"
    }
   ],
   "source": [
    "response.json()"
   ]
  },
  {
   "cell_type": "markdown",
   "id": "1cb486b7-5e70-4670-829e-9f67668ecc5c",
   "metadata": {},
   "source": [
    "## 6. DELETE\n",
    "\n",
    "### 6.1\n",
    "\n",
    "- **Use DELETE method to delete a resource**\n",
    "- **Address:** https://httpbin.org/delete\n"
   ]
  },
  {
   "cell_type": "code",
   "execution_count": 31,
   "id": "a2fe0470-f0f3-4978-bf0d-2373c6faf8d4",
   "metadata": {},
   "outputs": [],
   "source": [
    "uri = 'https://httpbin.org/delete'"
   ]
  },
  {
   "cell_type": "code",
   "execution_count": 32,
   "id": "58d7f010-db7f-445d-bd98-1e7798a799c3",
   "metadata": {},
   "outputs": [],
   "source": [
    "response = requests.delete(uri)"
   ]
  },
  {
   "cell_type": "code",
   "execution_count": 33,
   "id": "40199175-870e-412d-ac8e-e91595882461",
   "metadata": {},
   "outputs": [
    {
     "data": {
      "text/plain": [
       "200"
      ]
     },
     "execution_count": 33,
     "metadata": {},
     "output_type": "execute_result"
    }
   ],
   "source": [
    "response.status_code"
   ]
  },
  {
   "cell_type": "code",
   "execution_count": 34,
   "id": "16f0cee6-be7b-4d2c-b5c4-8414e14d8d65",
   "metadata": {},
   "outputs": [
    {
     "data": {
      "text/plain": [
       "{'args': {},\n",
       " 'data': '',\n",
       " 'files': {},\n",
       " 'form': {},\n",
       " 'headers': {'Accept': '*/*',\n",
       "  'Accept-Encoding': 'gzip, deflate',\n",
       "  'Content-Length': '0',\n",
       "  'Host': 'httpbin.org',\n",
       "  'User-Agent': 'python-requests/2.32.3',\n",
       "  'X-Amzn-Trace-Id': 'Root=1-687f7f79-2bdf2d3364e06ac83d95b483'},\n",
       " 'json': None,\n",
       " 'origin': '116.66.195.164',\n",
       " 'url': 'https://httpbin.org/delete'}"
      ]
     },
     "execution_count": 34,
     "metadata": {},
     "output_type": "execute_result"
    }
   ],
   "source": [
    "response.json()"
   ]
  },
  {
   "cell_type": "markdown",
   "id": "30a4e191-5a97-4173-a96f-200c4d32c071",
   "metadata": {},
   "source": [
    "## 7. Headers\n",
    "\n",
    "- **Use a GET request**\n",
    "- **URL:** https://httpbin.org/headers\n"
   ]
  },
  {
   "cell_type": "code",
   "execution_count": 35,
   "id": "e6589cd2-c49a-40d9-9a9e-16edc00e21e4",
   "metadata": {},
   "outputs": [],
   "source": [
    "headers = {\n",
    "\t'User-Agent': 'Mozilla/5.0 (Windows NT 10.0; Win64; x64)',\n",
    "    'Accept': 'application/json',\n",
    "\t'Authorization': 'Bearer YOUR_ACCESS_TOKEN',\n",
    "\t'Content-Type': 'application/json',\n",
    "\t'X-Custom-Header': 'CustomValue',\n",
    "}"
   ]
  },
  {
   "cell_type": "code",
   "execution_count": 36,
   "id": "2cc15790-ccfd-40f3-9332-04a0b7946520",
   "metadata": {},
   "outputs": [],
   "source": [
    "uri = 'https://httpbin.org/headers'"
   ]
  },
  {
   "cell_type": "code",
   "execution_count": 37,
   "id": "7685f664-14bb-42ce-bcc5-b7ce26e680a6",
   "metadata": {},
   "outputs": [],
   "source": [
    "response = requests.get(uri, headers = headers)"
   ]
  },
  {
   "cell_type": "code",
   "execution_count": 38,
   "id": "f8f1b4ef-67c7-440d-bd0f-a020de6e35be",
   "metadata": {},
   "outputs": [
    {
     "data": {
      "text/plain": [
       "200"
      ]
     },
     "execution_count": 38,
     "metadata": {},
     "output_type": "execute_result"
    }
   ],
   "source": [
    "response.status_code"
   ]
  },
  {
   "cell_type": "code",
   "execution_count": 39,
   "id": "f9002690-19da-4726-b906-47e7ad64ba1e",
   "metadata": {},
   "outputs": [
    {
     "data": {
      "text/plain": [
       "{'Date': 'Tue, 22 Jul 2025 12:09:31 GMT', 'Content-Type': 'application/json', 'Content-Length': '387', 'Connection': 'keep-alive', 'Server': 'gunicorn/19.9.0', 'Access-Control-Allow-Origin': '*', 'Access-Control-Allow-Credentials': 'true'}"
      ]
     },
     "execution_count": 39,
     "metadata": {},
     "output_type": "execute_result"
    }
   ],
   "source": [
    "response.headers"
   ]
  },
  {
   "cell_type": "code",
   "execution_count": 40,
   "id": "3b7a6076-89fb-4891-a7eb-269562561907",
   "metadata": {},
   "outputs": [
    {
     "data": {
      "text/plain": [
       "requests.structures.CaseInsensitiveDict"
      ]
     },
     "execution_count": 40,
     "metadata": {},
     "output_type": "execute_result"
    }
   ],
   "source": [
    "type(response.headers)"
   ]
  },
  {
   "cell_type": "code",
   "execution_count": 41,
   "id": "2e2499f4-3645-4ea8-ac77-829514d049ee",
   "metadata": {},
   "outputs": [
    {
     "data": {
      "text/plain": [
       "{'Date': 'Tue, 22 Jul 2025 12:09:31 GMT',\n",
       " 'Content-Type': 'application/json',\n",
       " 'Content-Length': '387',\n",
       " 'Connection': 'keep-alive',\n",
       " 'Server': 'gunicorn/19.9.0',\n",
       " 'Access-Control-Allow-Origin': '*',\n",
       " 'Access-Control-Allow-Credentials': 'true'}"
      ]
     },
     "execution_count": 41,
     "metadata": {},
     "output_type": "execute_result"
    }
   ],
   "source": [
    "dict(response.headers)"
   ]
  },
  {
   "cell_type": "code",
   "execution_count": 42,
   "id": "32295499-ae02-4ed3-b735-c9a9294421bd",
   "metadata": {},
   "outputs": [
    {
     "data": {
      "text/plain": [
       "{'headers': {'Accept': 'application/json',\n",
       "  'Accept-Encoding': 'gzip, deflate',\n",
       "  'Authorization': 'Bearer YOUR_ACCESS_TOKEN',\n",
       "  'Content-Type': 'application/json',\n",
       "  'Host': 'httpbin.org',\n",
       "  'User-Agent': 'Mozilla/5.0 (Windows NT 10.0; Win64; x64)',\n",
       "  'X-Amzn-Trace-Id': 'Root=1-687f7f7a-36474fbc034b04b07a09140b',\n",
       "  'X-Custom-Header': 'CustomValue'}}"
      ]
     },
     "execution_count": 42,
     "metadata": {},
     "output_type": "execute_result"
    }
   ],
   "source": [
    "response.json()"
   ]
  },
  {
   "cell_type": "code",
   "execution_count": 43,
   "id": "112f8650-2c01-4764-8bbd-751c45d8b4ee",
   "metadata": {},
   "outputs": [
    {
     "name": "stdout",
     "output_type": "stream",
     "text": [
      "Accept          : application/json\n",
      "Accept-Encoding : gzip, deflate\n",
      "Authorization   : Bearer YOUR_ACCESS_TOKEN\n",
      "Content-Type    : application/json\n",
      "Host            : httpbin.org\n",
      "User-Agent      : Mozilla/5.0 (Windows NT 10.0; Win64; x64)\n",
      "X-Amzn-Trace-Id : Root=1-687f7f7a-36474fbc034b04b07a09140b\n",
      "X-Custom-Header : CustomValue\n"
     ]
    }
   ],
   "source": [
    "for header, value in response.json()['headers'].items():\n",
    "    print(f\"{header:<16}: {value}\")"
   ]
  },
  {
   "cell_type": "markdown",
   "id": "1b90593c-a4b2-480f-b517-df0c60b324dc",
   "metadata": {},
   "source": [
    "## 8. Response Object\n",
    "\n",
    "- **Address:** https://api.github.com  \n",
    "- **The most common attributes of the response object are:**\n",
    "  - **status_code:** shows the HTTP status code of the request  \n",
    "  - **text:** shows the content of the response as a string  \n",
    "  - **content:** shows the content of the response as binary data  \n",
    "  - **headers:** shows all the response headers  \n",
    "  - **json():** parse the server's response as JSON  \n"
   ]
  },
  {
   "cell_type": "code",
   "execution_count": 44,
   "id": "7bdbae9a-9907-4a7e-8f2d-5eb4ad9e6292",
   "metadata": {},
   "outputs": [],
   "source": [
    "uri = 'https://api.github.com'"
   ]
  },
  {
   "cell_type": "code",
   "execution_count": 45,
   "id": "6a513436-11d9-4239-a55f-cd111c32f375",
   "metadata": {},
   "outputs": [],
   "source": [
    "response = requests.get(uri)"
   ]
  },
  {
   "cell_type": "code",
   "execution_count": 46,
   "id": "1bf49902-26f6-43d7-8cfd-e5081b2f6a60",
   "metadata": {},
   "outputs": [
    {
     "data": {
      "text/plain": [
       "<Response [200]>"
      ]
     },
     "execution_count": 46,
     "metadata": {},
     "output_type": "execute_result"
    }
   ],
   "source": [
    "response"
   ]
  },
  {
   "cell_type": "code",
   "execution_count": 47,
   "id": "ecbb3c46-33cf-4929-8ab3-15e58525c891",
   "metadata": {},
   "outputs": [
    {
     "data": {
      "text/plain": [
       "200"
      ]
     },
     "execution_count": 47,
     "metadata": {},
     "output_type": "execute_result"
    }
   ],
   "source": [
    "response.status_code"
   ]
  },
  {
   "cell_type": "code",
   "execution_count": 48,
   "id": "7ec19737-3f83-4b01-a25d-e07fdde5ee35",
   "metadata": {},
   "outputs": [
    {
     "data": {
      "text/plain": [
       "int"
      ]
     },
     "execution_count": 48,
     "metadata": {},
     "output_type": "execute_result"
    }
   ],
   "source": [
    "type(response.status_code)"
   ]
  },
  {
   "cell_type": "code",
   "execution_count": 49,
   "id": "3c1544a7-b718-45df-b1ec-b637f5fe70bd",
   "metadata": {},
   "outputs": [
    {
     "name": "stdout",
     "output_type": "stream",
     "text": [
      "Successful Request!\n"
     ]
    }
   ],
   "source": [
    "if response.status_code == 200:\n",
    "    print(\"Successful Request!\")\n",
    "else:\n",
    "    print(\"Unsuccessful Request!\")"
   ]
  },
  {
   "cell_type": "code",
   "execution_count": 50,
   "id": "15e87d06-6449-4369-bc9c-c2aec821e1ab",
   "metadata": {},
   "outputs": [
    {
     "data": {
      "text/plain": [
       "'{\"current_user_url\":\"https://api.github.com/user\",\"current_user_authorizations_html_url\":\"https://github.com/settings/connections/applications{/client_id}\",\"authorizations_url\":\"https://api.github.com/authorizations\",\"code_search_url\":\"https://api.github.com/search/code?q={query}{&page,per_page,sort,order}\",\"commit_search_url\":\"https://api.github.com/search/commits?q={query}{&page,per_page,sort,order}\",\"emails_url\":\"https://api.github.com/user/emails\",\"emojis_url\":\"https://api.github.com/emojis\",\"events_url\":\"https://api.github.com/events\",\"feeds_url\":\"https://api.github.com/feeds\",\"followers_url\":\"https://api.github.com/user/followers\",\"following_url\":\"https://api.github.com/user/following{/target}\",\"gists_url\":\"https://api.github.com/gists{/gist_id}\",\"hub_url\":\"https://api.github.com/hub\",\"issue_search_url\":\"https://api.github.com/search/issues?q={query}{&page,per_page,sort,order}\",\"issues_url\":\"https://api.github.com/issues\",\"keys_url\":\"https://api.github.com/user/keys\",\"label_search_url\":\"https://api.github.com/search/labels?q={query}&repository_id={repository_id}{&page,per_page}\",\"notifications_url\":\"https://api.github.com/notifications\",\"organization_url\":\"https://api.github.com/orgs/{org}\",\"organization_repositories_url\":\"https://api.github.com/orgs/{org}/repos{?type,page,per_page,sort}\",\"organization_teams_url\":\"https://api.github.com/orgs/{org}/teams\",\"public_gists_url\":\"https://api.github.com/gists/public\",\"rate_limit_url\":\"https://api.github.com/rate_limit\",\"repository_url\":\"https://api.github.com/repos/{owner}/{repo}\",\"repository_search_url\":\"https://api.github.com/search/repositories?q={query}{&page,per_page,sort,order}\",\"current_user_repositories_url\":\"https://api.github.com/user/repos{?type,page,per_page,sort}\",\"starred_url\":\"https://api.github.com/user/starred{/owner}{/repo}\",\"starred_gists_url\":\"https://api.github.com/gists/starred\",\"topic_search_url\":\"https://api.github.com/search/topics?q={query}{&page,per_page}\",\"user_url\":\"https://api.github.com/users/{user}\",\"user_organizations_url\":\"https://api.github.com/user/orgs\",\"user_repositories_url\":\"https://api.github.com/users/{user}/repos{?type,page,per_page,sort}\",\"user_search_url\":\"https://api.github.com/search/users?q={query}{&page,per_page,sort,order}\"}'"
      ]
     },
     "execution_count": 50,
     "metadata": {},
     "output_type": "execute_result"
    }
   ],
   "source": [
    "response.text"
   ]
  },
  {
   "cell_type": "code",
   "execution_count": 51,
   "id": "165482ee-b3a3-402f-b1fe-e942bbe76a54",
   "metadata": {},
   "outputs": [
    {
     "data": {
      "text/plain": [
       "str"
      ]
     },
     "execution_count": 51,
     "metadata": {},
     "output_type": "execute_result"
    }
   ],
   "source": [
    "type(response.text)"
   ]
  },
  {
   "cell_type": "code",
   "execution_count": 52,
   "id": "e7dc811a-493d-4f06-acba-5e349d233f61",
   "metadata": {},
   "outputs": [
    {
     "data": {
      "text/plain": [
       "b'{\"current_user_url\":\"https://api.github.com/user\",\"current_user_authorizations_html_url\":\"https://github.com/settings/connections/applications{/client_id}\",\"authorizations_url\":\"https://api.github.com/authorizations\",\"code_search_url\":\"https://api.github.com/search/code?q={query}{&page,per_page,sort,order}\",\"commit_search_url\":\"https://api.github.com/search/commits?q={query}{&page,per_page,sort,order}\",\"emails_url\":\"https://api.github.com/user/emails\",\"emojis_url\":\"https://api.github.com/emojis\",\"events_url\":\"https://api.github.com/events\",\"feeds_url\":\"https://api.github.com/feeds\",\"followers_url\":\"https://api.github.com/user/followers\",\"following_url\":\"https://api.github.com/user/following{/target}\",\"gists_url\":\"https://api.github.com/gists{/gist_id}\",\"hub_url\":\"https://api.github.com/hub\",\"issue_search_url\":\"https://api.github.com/search/issues?q={query}{&page,per_page,sort,order}\",\"issues_url\":\"https://api.github.com/issues\",\"keys_url\":\"https://api.github.com/user/keys\",\"label_search_url\":\"https://api.github.com/search/labels?q={query}&repository_id={repository_id}{&page,per_page}\",\"notifications_url\":\"https://api.github.com/notifications\",\"organization_url\":\"https://api.github.com/orgs/{org}\",\"organization_repositories_url\":\"https://api.github.com/orgs/{org}/repos{?type,page,per_page,sort}\",\"organization_teams_url\":\"https://api.github.com/orgs/{org}/teams\",\"public_gists_url\":\"https://api.github.com/gists/public\",\"rate_limit_url\":\"https://api.github.com/rate_limit\",\"repository_url\":\"https://api.github.com/repos/{owner}/{repo}\",\"repository_search_url\":\"https://api.github.com/search/repositories?q={query}{&page,per_page,sort,order}\",\"current_user_repositories_url\":\"https://api.github.com/user/repos{?type,page,per_page,sort}\",\"starred_url\":\"https://api.github.com/user/starred{/owner}{/repo}\",\"starred_gists_url\":\"https://api.github.com/gists/starred\",\"topic_search_url\":\"https://api.github.com/search/topics?q={query}{&page,per_page}\",\"user_url\":\"https://api.github.com/users/{user}\",\"user_organizations_url\":\"https://api.github.com/user/orgs\",\"user_repositories_url\":\"https://api.github.com/users/{user}/repos{?type,page,per_page,sort}\",\"user_search_url\":\"https://api.github.com/search/users?q={query}{&page,per_page,sort,order}\"}'"
      ]
     },
     "execution_count": 52,
     "metadata": {},
     "output_type": "execute_result"
    }
   ],
   "source": [
    "response.content"
   ]
  },
  {
   "cell_type": "code",
   "execution_count": 53,
   "id": "0d274da6-f0d6-4108-9d8e-deae6e5fda35",
   "metadata": {},
   "outputs": [
    {
     "data": {
      "text/plain": [
       "bytes"
      ]
     },
     "execution_count": 53,
     "metadata": {},
     "output_type": "execute_result"
    }
   ],
   "source": [
    "type(response.content)"
   ]
  },
  {
   "cell_type": "code",
   "execution_count": 54,
   "id": "14dc714d-a8d9-4315-9a69-0436c1d76e30",
   "metadata": {},
   "outputs": [
    {
     "data": {
      "text/plain": [
       "{'Date': 'Tue, 22 Jul 2025 12:09:21 GMT', 'Content-Type': 'application/json; charset=utf-8', 'Cache-Control': 'public, max-age=60, s-maxage=60', 'Vary': 'Accept,Accept-Encoding, Accept, X-Requested-With', 'ETag': 'W/\"4f825cc84e1c733059d46e76e6df9db557ae5254f9625dfe8e1b09499c449438\"', 'X-GitHub-Media-Type': 'github.v3; format=json', 'x-github-api-version-selected': '2022-11-28', 'Access-Control-Expose-Headers': 'ETag, Link, Location, Retry-After, X-GitHub-OTP, X-RateLimit-Limit, X-RateLimit-Remaining, X-RateLimit-Used, X-RateLimit-Resource, X-RateLimit-Reset, X-OAuth-Scopes, X-Accepted-OAuth-Scopes, X-Poll-Interval, X-GitHub-Media-Type, X-GitHub-SSO, X-GitHub-Request-Id, Deprecation, Sunset', 'Access-Control-Allow-Origin': '*', 'Strict-Transport-Security': 'max-age=31536000; includeSubdomains; preload', 'X-Frame-Options': 'deny', 'X-Content-Type-Options': 'nosniff', 'X-XSS-Protection': '0', 'Referrer-Policy': 'origin-when-cross-origin, strict-origin-when-cross-origin', 'Content-Security-Policy': \"default-src 'none'\", 'Content-Encoding': 'gzip', 'Server': 'github.com', 'Accept-Ranges': 'bytes', 'X-RateLimit-Limit': '60', 'X-RateLimit-Remaining': '57', 'X-RateLimit-Reset': '1753189407', 'X-RateLimit-Resource': 'core', 'X-RateLimit-Used': '3', 'Content-Length': '510', 'X-GitHub-Request-Id': '34E1:C510D:AA7BC:C9888:687F7F7B'}"
      ]
     },
     "execution_count": 54,
     "metadata": {},
     "output_type": "execute_result"
    }
   ],
   "source": [
    "response.headers"
   ]
  },
  {
   "cell_type": "code",
   "execution_count": 55,
   "id": "f7b5726a-5ded-48da-b6eb-7d603f8d0db4",
   "metadata": {},
   "outputs": [
    {
     "data": {
      "text/plain": [
       "{'Date': 'Tue, 22 Jul 2025 12:09:21 GMT',\n",
       " 'Content-Type': 'application/json; charset=utf-8',\n",
       " 'Cache-Control': 'public, max-age=60, s-maxage=60',\n",
       " 'Vary': 'Accept,Accept-Encoding, Accept, X-Requested-With',\n",
       " 'ETag': 'W/\"4f825cc84e1c733059d46e76e6df9db557ae5254f9625dfe8e1b09499c449438\"',\n",
       " 'X-GitHub-Media-Type': 'github.v3; format=json',\n",
       " 'x-github-api-version-selected': '2022-11-28',\n",
       " 'Access-Control-Expose-Headers': 'ETag, Link, Location, Retry-After, X-GitHub-OTP, X-RateLimit-Limit, X-RateLimit-Remaining, X-RateLimit-Used, X-RateLimit-Resource, X-RateLimit-Reset, X-OAuth-Scopes, X-Accepted-OAuth-Scopes, X-Poll-Interval, X-GitHub-Media-Type, X-GitHub-SSO, X-GitHub-Request-Id, Deprecation, Sunset',\n",
       " 'Access-Control-Allow-Origin': '*',\n",
       " 'Strict-Transport-Security': 'max-age=31536000; includeSubdomains; preload',\n",
       " 'X-Frame-Options': 'deny',\n",
       " 'X-Content-Type-Options': 'nosniff',\n",
       " 'X-XSS-Protection': '0',\n",
       " 'Referrer-Policy': 'origin-when-cross-origin, strict-origin-when-cross-origin',\n",
       " 'Content-Security-Policy': \"default-src 'none'\",\n",
       " 'Content-Encoding': 'gzip',\n",
       " 'Server': 'github.com',\n",
       " 'Accept-Ranges': 'bytes',\n",
       " 'X-RateLimit-Limit': '60',\n",
       " 'X-RateLimit-Remaining': '57',\n",
       " 'X-RateLimit-Reset': '1753189407',\n",
       " 'X-RateLimit-Resource': 'core',\n",
       " 'X-RateLimit-Used': '3',\n",
       " 'Content-Length': '510',\n",
       " 'X-GitHub-Request-Id': '34E1:C510D:AA7BC:C9888:687F7F7B'}"
      ]
     },
     "execution_count": 55,
     "metadata": {},
     "output_type": "execute_result"
    }
   ],
   "source": [
    "dict(response.headers)"
   ]
  },
  {
   "cell_type": "code",
   "execution_count": 56,
   "id": "2c83b895-f697-478d-92be-36ae4444a260",
   "metadata": {},
   "outputs": [
    {
     "name": "stdout",
     "output_type": "stream",
     "text": [
      "Date                               : Tue, 22 Jul 2025 12:09:21 GMT\n",
      "Content-Type                       : application/json; charset=utf-8\n",
      "Cache-Control                      : public, max-age=60, s-maxage=60\n",
      "Vary                               : Accept,Accept-Encoding, Accept, X-Requested-With\n",
      "ETag                               : W/\"4f825cc84e1c733059d46e76e6df9db557ae5254f9625dfe8e1b09499c449438\"\n",
      "X-GitHub-Media-Type                : github.v3; format=json\n",
      "x-github-api-version-selected      : 2022-11-28\n",
      "Access-Control-Expose-Headers      : ETag, Link, Location, Retry-After, X-GitHub-OTP, X-RateLimit-Limit, X-RateLimit-Remaining, X-RateLimit-Used, X-RateLimit-Resource, X-RateLimit-Reset, X-OAuth-Scopes, X-Accepted-OAuth-Scopes, X-Poll-Interval, X-GitHub-Media-Type, X-GitHub-SSO, X-GitHub-Request-Id, Deprecation, Sunset\n",
      "Access-Control-Allow-Origin        : *\n",
      "Strict-Transport-Security          : max-age=31536000; includeSubdomains; preload\n",
      "X-Frame-Options                    : deny\n",
      "X-Content-Type-Options             : nosniff\n",
      "X-XSS-Protection                   : 0\n",
      "Referrer-Policy                    : origin-when-cross-origin, strict-origin-when-cross-origin\n",
      "Content-Security-Policy            : default-src 'none'\n",
      "Content-Encoding                   : gzip\n",
      "Server                             : github.com\n",
      "Accept-Ranges                      : bytes\n",
      "X-RateLimit-Limit                  : 60\n",
      "X-RateLimit-Remaining              : 57\n",
      "X-RateLimit-Reset                  : 1753189407\n",
      "X-RateLimit-Resource               : core\n",
      "X-RateLimit-Used                   : 3\n",
      "Content-Length                     : 510\n",
      "X-GitHub-Request-Id                : 34E1:C510D:AA7BC:C9888:687F7F7B\n"
     ]
    }
   ],
   "source": [
    "for header, value in dict(response.headers).items():\n",
    "    print(f\"{header:<35}: {value}\")"
   ]
  },
  {
   "cell_type": "code",
   "execution_count": 57,
   "id": "69e7ecb3-ddc8-4719-adb8-4764f7f06ee4",
   "metadata": {},
   "outputs": [
    {
     "data": {
      "text/plain": [
       "{'current_user_url': 'https://api.github.com/user',\n",
       " 'current_user_authorizations_html_url': 'https://github.com/settings/connections/applications{/client_id}',\n",
       " 'authorizations_url': 'https://api.github.com/authorizations',\n",
       " 'code_search_url': 'https://api.github.com/search/code?q={query}{&page,per_page,sort,order}',\n",
       " 'commit_search_url': 'https://api.github.com/search/commits?q={query}{&page,per_page,sort,order}',\n",
       " 'emails_url': 'https://api.github.com/user/emails',\n",
       " 'emojis_url': 'https://api.github.com/emojis',\n",
       " 'events_url': 'https://api.github.com/events',\n",
       " 'feeds_url': 'https://api.github.com/feeds',\n",
       " 'followers_url': 'https://api.github.com/user/followers',\n",
       " 'following_url': 'https://api.github.com/user/following{/target}',\n",
       " 'gists_url': 'https://api.github.com/gists{/gist_id}',\n",
       " 'hub_url': 'https://api.github.com/hub',\n",
       " 'issue_search_url': 'https://api.github.com/search/issues?q={query}{&page,per_page,sort,order}',\n",
       " 'issues_url': 'https://api.github.com/issues',\n",
       " 'keys_url': 'https://api.github.com/user/keys',\n",
       " 'label_search_url': 'https://api.github.com/search/labels?q={query}&repository_id={repository_id}{&page,per_page}',\n",
       " 'notifications_url': 'https://api.github.com/notifications',\n",
       " 'organization_url': 'https://api.github.com/orgs/{org}',\n",
       " 'organization_repositories_url': 'https://api.github.com/orgs/{org}/repos{?type,page,per_page,sort}',\n",
       " 'organization_teams_url': 'https://api.github.com/orgs/{org}/teams',\n",
       " 'public_gists_url': 'https://api.github.com/gists/public',\n",
       " 'rate_limit_url': 'https://api.github.com/rate_limit',\n",
       " 'repository_url': 'https://api.github.com/repos/{owner}/{repo}',\n",
       " 'repository_search_url': 'https://api.github.com/search/repositories?q={query}{&page,per_page,sort,order}',\n",
       " 'current_user_repositories_url': 'https://api.github.com/user/repos{?type,page,per_page,sort}',\n",
       " 'starred_url': 'https://api.github.com/user/starred{/owner}{/repo}',\n",
       " 'starred_gists_url': 'https://api.github.com/gists/starred',\n",
       " 'topic_search_url': 'https://api.github.com/search/topics?q={query}{&page,per_page}',\n",
       " 'user_url': 'https://api.github.com/users/{user}',\n",
       " 'user_organizations_url': 'https://api.github.com/user/orgs',\n",
       " 'user_repositories_url': 'https://api.github.com/users/{user}/repos{?type,page,per_page,sort}',\n",
       " 'user_search_url': 'https://api.github.com/search/users?q={query}{&page,per_page,sort,order}'}"
      ]
     },
     "execution_count": 57,
     "metadata": {},
     "output_type": "execute_result"
    }
   ],
   "source": [
    "response.json()"
   ]
  },
  {
   "cell_type": "code",
   "execution_count": 58,
   "id": "8a5ed457-ad08-4060-b249-784b721fff82",
   "metadata": {},
   "outputs": [
    {
     "data": {
      "text/plain": [
       "{'current_user_url': 'https://api.github.com/user',\n",
       " 'current_user_authorizations_html_url': 'https://github.com/settings/connections/applications{/client_id}',\n",
       " 'authorizations_url': 'https://api.github.com/authorizations',\n",
       " 'code_search_url': 'https://api.github.com/search/code?q={query}{&page,per_page,sort,order}',\n",
       " 'commit_search_url': 'https://api.github.com/search/commits?q={query}{&page,per_page,sort,order}',\n",
       " 'emails_url': 'https://api.github.com/user/emails',\n",
       " 'emojis_url': 'https://api.github.com/emojis',\n",
       " 'events_url': 'https://api.github.com/events',\n",
       " 'feeds_url': 'https://api.github.com/feeds',\n",
       " 'followers_url': 'https://api.github.com/user/followers',\n",
       " 'following_url': 'https://api.github.com/user/following{/target}',\n",
       " 'gists_url': 'https://api.github.com/gists{/gist_id}',\n",
       " 'hub_url': 'https://api.github.com/hub',\n",
       " 'issue_search_url': 'https://api.github.com/search/issues?q={query}{&page,per_page,sort,order}',\n",
       " 'issues_url': 'https://api.github.com/issues',\n",
       " 'keys_url': 'https://api.github.com/user/keys',\n",
       " 'label_search_url': 'https://api.github.com/search/labels?q={query}&repository_id={repository_id}{&page,per_page}',\n",
       " 'notifications_url': 'https://api.github.com/notifications',\n",
       " 'organization_url': 'https://api.github.com/orgs/{org}',\n",
       " 'organization_repositories_url': 'https://api.github.com/orgs/{org}/repos{?type,page,per_page,sort}',\n",
       " 'organization_teams_url': 'https://api.github.com/orgs/{org}/teams',\n",
       " 'public_gists_url': 'https://api.github.com/gists/public',\n",
       " 'rate_limit_url': 'https://api.github.com/rate_limit',\n",
       " 'repository_url': 'https://api.github.com/repos/{owner}/{repo}',\n",
       " 'repository_search_url': 'https://api.github.com/search/repositories?q={query}{&page,per_page,sort,order}',\n",
       " 'current_user_repositories_url': 'https://api.github.com/user/repos{?type,page,per_page,sort}',\n",
       " 'starred_url': 'https://api.github.com/user/starred{/owner}{/repo}',\n",
       " 'starred_gists_url': 'https://api.github.com/gists/starred',\n",
       " 'topic_search_url': 'https://api.github.com/search/topics?q={query}{&page,per_page}',\n",
       " 'user_url': 'https://api.github.com/users/{user}',\n",
       " 'user_organizations_url': 'https://api.github.com/user/orgs',\n",
       " 'user_repositories_url': 'https://api.github.com/users/{user}/repos{?type,page,per_page,sort}',\n",
       " 'user_search_url': 'https://api.github.com/search/users?q={query}{&page,per_page,sort,order}'}"
      ]
     },
     "execution_count": 58,
     "metadata": {},
     "output_type": "execute_result"
    }
   ],
   "source": [
    "dict(response.json())"
   ]
  },
  {
   "cell_type": "markdown",
   "id": "2a16a703-c36a-44dc-b932-f2afac1cb497",
   "metadata": {},
   "source": [
    "## 9. Working with a Public API\n",
    "\n",
    "- **API:** https://jsonplaceholder.typicode.com/  \n",
    "- **Endpoint:** posts  \n",
    "- **Perform error handling:** `raise_for_status()`  \n"
   ]
  },
  {
   "cell_type": "code",
   "execution_count": 59,
   "id": "7ce4e639-96af-47c0-990e-5580f9f3fa9b",
   "metadata": {},
   "outputs": [],
   "source": [
    "\n",
    "url = \"https://jsonplaceholder.typicode.com/posts\""
   ]
  },
  {
   "cell_type": "markdown",
   "id": "a45a7a12-e4c1-4344-b53d-403a214f470a",
   "metadata": {},
   "source": [
    "### 9.1\n",
    "\n",
    "- **Make a GET request to retrieve a list of posts**\n",
    "- **API:** https://jsonplaceholder.typicode.com/posts\n"
   ]
  },
  {
   "cell_type": "code",
   "execution_count": 60,
   "id": "926bb33c-2a5f-428b-8dc9-84a22563a967",
   "metadata": {},
   "outputs": [
    {
     "name": "stdout",
     "output_type": "stream",
     "text": [
      "Status Code: 200\n",
      "\n",
      "Successful GET request!\n",
      "\n",
      "Post 1:\n",
      "{'userId': 1, 'id': 1, 'title': 'sunt aut facere repellat provident occaecati excepturi optio reprehenderit', 'body': 'quia et suscipit\\nsuscipit recusandae consequuntur expedita et cum\\nreprehenderit molestiae ut ut quas totam\\nnostrum rerum est autem sunt rem eveniet architecto'}\n",
      "\n",
      "Post 2:\n",
      "{'userId': 1, 'id': 2, 'title': 'qui est esse', 'body': 'est rerum tempore vitae\\nsequi sint nihil reprehenderit dolor beatae ea dolores neque\\nfugiat blanditiis voluptate porro vel nihil molestiae ut reiciendis\\nqui aperiam non debitis possimus qui neque nisi nulla'}\n",
      "\n",
      "Post 3:\n",
      "{'userId': 1, 'id': 3, 'title': 'ea molestias quasi exercitationem repellat qui ipsa sit aut', 'body': 'et iusto sed quo iure\\nvoluptatem occaecati omnis eligendi aut ad\\nvoluptatem doloribus vel accusantium quis pariatur\\nmolestiae porro eius odio et labore et velit aut'}\n"
     ]
    }
   ],
   "source": [
    "try:\n",
    "    response = requests.get(url)\n",
    "    response.raise_for_status()\n",
    "except Exception as e:\n",
    "    print(e)\n",
    "else:\n",
    "    status_code = response.status_code\n",
    "    print(f\"Status Code: {status_code}\")\n",
    "    if status_code == 200:\n",
    "        print(\"\\nSuccessful GET request!\")\n",
    "        posts = response.json()\n",
    "        for i in range(3):\n",
    "            print(f\"\\nPost {i + 1}:\")\n",
    "            print(posts[i])\n",
    "    else:\n",
    "        print(\"Unsuccessful GET request!\")"
   ]
  },
  {
   "cell_type": "markdown",
   "id": "3190be0a-be4c-4f18-9930-fd5bd5565384",
   "metadata": {},
   "source": [
    "### 9.2\n",
    "\n",
    "- **Make a POST request to submit a post**\n",
    "- **Include the following parameters:**\n",
    "  - **title**\n",
    "  - **body**\n",
    "  - **userId**\n"
   ]
  },
  {
   "cell_type": "code",
   "execution_count": 61,
   "id": "52054cd7-56dd-4214-9231-d42f3dfdbfc8",
   "metadata": {},
   "outputs": [],
   "source": [
    "new_post = {\n",
    "    \"title\" : \"Sample Post\",\n",
    "    \"body\" : \"This is a sample post\",\n",
    "    \"userId\" : 101\n",
    "}"
   ]
  },
  {
   "cell_type": "code",
   "execution_count": 62,
   "id": "b8518b8b-b618-417d-88e6-2991fea7a346",
   "metadata": {},
   "outputs": [
    {
     "name": "stdout",
     "output_type": "stream",
     "text": [
      "Status Code: 201\n",
      "\n",
      "Successful POST request!\n",
      "\n",
      "Post:\n",
      "{'title': 'Sample Post', 'body': 'This is a sample post', 'userId': '101', 'id': 101}\n"
     ]
    }
   ],
   "source": [
    "try:\n",
    "    response = requests.post(url, data = new_post)\n",
    "    response.raise_for_status()\n",
    "except Exception as e:\n",
    "    print(e)\n",
    "else:\n",
    "    status_code = response.status_code\n",
    "    if status_code == 201:\n",
    "        print(f\"Status Code: {status_code}\")\n",
    "        print(\"\\nSuccessful POST request!\")\n",
    "        post = response.json()\n",
    "        print(\"\\nPost:\")\n",
    "        print(post)\n",
    "    else:\n",
    "        print(f\"Status Code: {status_code}\")\n",
    "        print(\"\\nUnsuccessful POST request!\")"
   ]
  }
 ],
 "metadata": {
  "kernelspec": {
   "display_name": "Python 3 (ipykernel)",
   "language": "python",
   "name": "python3"
  },
  "language_info": {
   "codemirror_mode": {
    "name": "ipython",
    "version": 3
   },
   "file_extension": ".py",
   "mimetype": "text/x-python",
   "name": "python",
   "nbconvert_exporter": "python",
   "pygments_lexer": "ipython3",
   "version": "3.12.4"
  }
 },
 "nbformat": 4,
 "nbformat_minor": 5
}
